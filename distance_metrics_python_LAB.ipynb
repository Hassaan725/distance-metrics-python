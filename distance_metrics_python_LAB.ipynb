{
  "nbformat": 4,
  "nbformat_minor": 0,
  "metadata": {
    "colab": {
      "provenance": []
    },
    "kernelspec": {
      "name": "python3",
      "display_name": "Python 3"
    },
    "language_info": {
      "name": "python"
    }
  },
  "cells": [
    {
      "cell_type": "code",
      "execution_count": null,
      "metadata": {
        "id": "LRvL9Nu0k3ml"
      },
      "outputs": [],
      "source": [
        "import numpy as np\n",
        "import pandas as pd\n"
      ]
    },
    {
      "cell_type": "code",
      "source": [
        "jack=[1,0,1,0,0,0],\n",
        "mary=[1,0,1,0,1,0],\n",
        "jim=[1,1,0,0,0,0]"
      ],
      "metadata": {
        "id": "BwLeiEEll3Nt"
      },
      "execution_count": null,
      "outputs": []
    },
    {
      "cell_type": "markdown",
      "source": [
        "**QUIZ**"
      ],
      "metadata": {
        "id": "4W-v7cng4Ove"
      }
    },
    {
      "cell_type": "code",
      "source": [
        "def dissimilarity_binary(list1, list2):\n",
        "    if len(list1) != len(list2):\n",
        "        raise ValueError(\"Input lists must have the same length\")\n",
        "\n",
        "    r, s, q = 0, 0, 0\n",
        "\n",
        "    for i in range(len(list1)):\n",
        "        if list1[i] == 1 and list2[i] == 1:\n",
        "             q=q+1\n",
        "        elif list1[i] == 1 and list2[i] == 0:\n",
        "            r=r+ 1\n",
        "        elif list1[i] == 0 and list2[i] == 1:\n",
        "            s=s+ 1\n",
        "\n",
        "    dissimilarity = (r + s) / (q + r + s)\n",
        "    return dissimilarity\n",
        "\n",
        "jack = [1, 0, 1, 0, 0, 0]\n",
        "mary = [1, 0, 1, 0, 1, 0]\n",
        "jim = [1, 1, 0, 0, 0, 0]\n",
        "\n",
        "dissim_jack_mary = dissimilarity_binary(jack, mary)\n",
        "print('Dissimilarity between Jack and Mary:', dissim_jack_mary)\n",
        "dissim_jack_jim = dissimilarity_binary(jack, jim)\n",
        "print('Dissimilarity between Jack and Jim:', dissim_jack_jim)\n",
        "dissim_mary_jim = dissimilarity_binary(mary, jim)\n",
        "print('Dissimilarity between Mary and Jim:', dissim_mary_jim)\n"
      ],
      "metadata": {
        "colab": {
          "base_uri": "https://localhost:8080/"
        },
        "id": "pAOIwy1XrPva",
        "outputId": "e494c4a5-bd46-4149-8556-b19da9c45143"
      },
      "execution_count": null,
      "outputs": [
        {
          "output_type": "stream",
          "name": "stdout",
          "text": [
            "Dissimilarity between Jack and Mary: 0.3333333333333333\n",
            "Dissimilarity between Jack and Jim: 0.6666666666666666\n",
            "Dissimilarity between Mary and Jim: 0.75\n"
          ]
        }
      ]
    },
    {
      "cell_type": "markdown",
      "source": [
        "**LAB WORK**"
      ],
      "metadata": {
        "id": "I_zeL7wcaXu6"
      }
    },
    {
      "cell_type": "code",
      "source": [
        "# calculating euclidean distance between vectors\n",
        "from math import sqrt\n",
        "# calculate euclidean distance\n",
        "def euclidean_distance(a, b):\n",
        "  return sqrt(sum((e1-e2)**2 for e1, e2 in zip(a,b)))\n",
        "# define data\n",
        "row1 = [10, 20, 15, 10, 5]\n",
        "row2 = [12, 24, 18, 8, 7]\n",
        "# calculate distance\n",
        "dist = euclidean_distance(row1, row2)\n",
        "print(dist)"
      ],
      "metadata": {
        "id": "Mju-atLtskLp",
        "colab": {
          "base_uri": "https://localhost:8080/"
        },
        "outputId": "702e8b5f-872e-42ce-c988-b1aac3574122"
      },
      "execution_count": null,
      "outputs": [
        {
          "output_type": "stream",
          "name": "stdout",
          "text": [
            "6.082762530298219\n"
          ]
        }
      ]
    },
    {
      "cell_type": "code",
      "source": [
        "from scipy.spatial.distance import euclidean\n",
        "# define data\n",
        "row1 = [10, 20, 15, 10, 5]\n",
        "row2 = [12, 24, 18, 8, 7]\n",
        "# calculate distance\n",
        "dist = euclidean(row1, row2)\n",
        "print(dist)"
      ],
      "metadata": {
        "colab": {
          "base_uri": "https://localhost:8080/"
        },
        "id": "pKvIcDvZz20a",
        "outputId": "da949539-ed1e-486a-b41b-8ec4eb8e1ab2"
      },
      "execution_count": null,
      "outputs": [
        {
          "output_type": "stream",
          "name": "stdout",
          "text": [
            "6.082762530298219\n"
          ]
        }
      ]
    },
    {
      "cell_type": "code",
      "source": [
        "# calculate manhattan distance\n",
        "def manhattan_distance(a, b):\n",
        "  return sum(abs(e1-e2) for e1, e2 in zip(a,b))\n",
        "# define data\n",
        "row1 = [10, 20, 15, 10, 5]\n",
        "row2 = [12, 24, 18, 8, 7]\n",
        "# calculate distance\n",
        "dist = manhattan_distance(row1, row2)\n",
        "print(dist)"
      ],
      "metadata": {
        "colab": {
          "base_uri": "https://localhost:8080/"
        },
        "id": "wtFBKeW30BHa",
        "outputId": "ecdbb2ad-72e1-4ada-d4d0-7097ea1f9147"
      },
      "execution_count": null,
      "outputs": [
        {
          "output_type": "stream",
          "name": "stdout",
          "text": [
            "13\n"
          ]
        }
      ]
    },
    {
      "cell_type": "code",
      "source": [
        "# calculating manhattan distance between vectors\n",
        "from scipy.spatial.distance import cityblock\n",
        "# define data\n",
        "row1 = [10, 20, 15, 10, 5]\n",
        "row2 = [12, 24, 18, 8, 7]\n",
        "# calculate distance\n",
        "dist = cityblock(row1, row2)\n",
        "print(dist)\n"
      ],
      "metadata": {
        "colab": {
          "base_uri": "https://localhost:8080/"
        },
        "id": "xhHOTAEA0Jq7",
        "outputId": "7ccf7504-967e-4751-cd42-9efe9f00f162"
      },
      "execution_count": null,
      "outputs": [
        {
          "output_type": "stream",
          "name": "stdout",
          "text": [
            "13\n"
          ]
        }
      ]
    },
    {
      "cell_type": "code",
      "source": [
        "# calculate minkowski distance\n",
        "def minkowski_distance(a, b, p):\n",
        "  return sum(abs(e1-e2)**p for e1, e2 in zip(a,b))**(1/p)\n",
        "# define data"
      ],
      "metadata": {
        "id": "e0Nvarog0P5S"
      },
      "execution_count": null,
      "outputs": []
    },
    {
      "cell_type": "code",
      "source": [
        "row1 = [10, 20, 15, 10, 5]\n",
        "row2 = [12, 24, 18, 8, 7]\n",
        "# calculate distance (p=1)\n",
        "dist = minkowski_distance(row1, row2, 1)\n",
        "print(dist)\n",
        "# calculate distance (p=2)\n",
        "dist = minkowski_distance(row1, row2, 2)\n",
        "print(dist)"
      ],
      "metadata": {
        "colab": {
          "base_uri": "https://localhost:8080/"
        },
        "id": "mxIQaDsP01Uj",
        "outputId": "ae49bf6c-86d9-4ae6-e04c-b49d0e536421"
      },
      "execution_count": null,
      "outputs": [
        {
          "output_type": "stream",
          "name": "stdout",
          "text": [
            "13.0\n",
            "6.082762530298219\n"
          ]
        }
      ]
    },
    {
      "cell_type": "code",
      "source": [
        "from scipy.spatial import minkowski_distance\n",
        "# define data\n",
        "row1 = [10, 20, 15, 10, 5]\n",
        "row2 = [12, 24, 18, 8, 7]\n",
        "# calculate distance (p=1)\n",
        "dist = minkowski_distance(row1, row2, 1)\n",
        "print(dist)\n",
        "# calculate distance (p=2)\n",
        "dist = minkowski_distance(row1, row2, 2)\n",
        "print(dist)\n"
      ],
      "metadata": {
        "id": "vWVtyQv3055S",
        "outputId": "a60e93b9-a434-45b5-ef0c-03d0fb9ac913",
        "colab": {
          "base_uri": "https://localhost:8080/"
        }
      },
      "execution_count": null,
      "outputs": [
        {
          "output_type": "stream",
          "name": "stdout",
          "text": [
            "13.0\n",
            "6.082762530298219\n"
          ]
        }
      ]
    },
    {
      "cell_type": "code",
      "source": [
        "from scipy.spatial.distance import euclidean\n",
        " # define data\n",
        "ali = [20,34]\n",
        "bilal = [25,25]\n",
        " # calculate distance\n",
        "dist = euclidean(ali, bilal)\n",
        "print(dist)\n",
        "print('ali and bilal:', dist)"
      ],
      "metadata": {
        "id": "wVwg0eSx086q",
        "colab": {
          "base_uri": "https://localhost:8080/"
        },
        "outputId": "6fc51654-5018-4272-f9fe-cdc50fdcc0c4"
      },
      "execution_count": null,
      "outputs": [
        {
          "output_type": "stream",
          "name": "stdout",
          "text": [
            "10.295630140987\n",
            "ali and bilal: 10.295630140987\n"
          ]
        }
      ]
    },
    {
      "cell_type": "code",
      "source": [
        "# calculating manhattan distance between vectors\n",
        "from scipy.spatial.distance import cityblock\n",
        " # define data\n",
        "ali = [20,34]\n",
        "faris = [20,25]\n",
        " # calculate distance\n",
        "dist = cityblock(ali, faris)\n",
        "print(dist)"
      ],
      "metadata": {
        "colab": {
          "base_uri": "https://localhost:8080/"
        },
        "id": "-u-dVo6O3hwF",
        "outputId": "5472b68f-4400-450f-ac40-53ece04c6724"
      },
      "execution_count": null,
      "outputs": [
        {
          "output_type": "stream",
          "name": "stdout",
          "text": [
            "9\n"
          ]
        }
      ]
    },
    {
      "cell_type": "markdown",
      "source": [
        "**LAB TASK**"
      ],
      "metadata": {
        "id": "s5T5upWlafGF"
      }
    },
    {
      "cell_type": "code",
      "source": [
        "from scipy.spatial.distance import euclidean\n",
        "\n",
        "grades = ['gradeC', 'gradeB', 'gradeA']\n",
        "ali_grade = 'gradeC'\n",
        "bilal_grade = 'gradeB'\n",
        "age1 = 20\n",
        "salary1 = 34\n",
        "age2 = 25\n",
        "salary2 = 25\n",
        "\n",
        "ali_rank = grades.index(ali_grade) + 1\n",
        "bilal_rank = grades.index(bilal_grade) + 1\n",
        "M = len(grades)\n",
        "\n",
        "ali_ordinal = (ali_rank - 1) / (M - 1)\n",
        "bilal_ordinal = (bilal_rank - 1) / (M - 1)\n",
        "\n",
        "ali = [age1, salary1, ali_ordinal]\n",
        "bilal = [age2, salary2, bilal_ordinal]\n",
        "\n",
        "dist = euclidean(ali[:2], bilal[:2])\n",
        "\n",
        "print(f'Distance between ali and bilal: {dist}')\n",
        "print(f'ali ordinal value: {ali[2]}')\n",
        "print(f'bilal ordinal value: {bilal[2]}')\n",
        "\n"
      ],
      "metadata": {
        "colab": {
          "base_uri": "https://localhost:8080/"
        },
        "id": "dl4xJmso5dKe",
        "outputId": "056054c6-72bf-4ec1-c6e9-6849d8bb5e78"
      },
      "execution_count": null,
      "outputs": [
        {
          "output_type": "stream",
          "name": "stdout",
          "text": [
            "Distance between ali and bilal: 10.295630140987\n",
            "ali ordinal value: 0.0\n",
            "bilal ordinal value: 0.5\n"
          ]
        }
      ]
    },
    {
      "cell_type": "code",
      "source": [],
      "metadata": {
        "id": "oAD4g7H7-Vjw"
      },
      "execution_count": null,
      "outputs": []
    }
  ]
}